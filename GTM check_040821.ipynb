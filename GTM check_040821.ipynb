{
  "nbformat": 4,
  "nbformat_minor": 2,
  "metadata": {
    "kernelspec": {
      "name": "synapse_pyspark",
      "display_name": "Synapse PySpark"
    },
    "language_info": {
      "name": "python"
    },
    "save_output": true,
    "synapse_widget": {
      "version": "0.1",
      "state": {}
    }
  },
  "cells": [
    {
      "cell_type": "code",
      "execution_count": 8,
      "outputs": [],
      "metadata": {
        "jupyter": {
          "source_hidden": false,
          "outputs_hidden": false
        },
        "nteract": {
          "transient": {
            "deleting": false
          }
        },
        "collapsed": true
      },
      "source": [
        "from azure.storage.blob import BlobServiceClient\r\n",
        "\r\n",
        "import pandas as pd\r\n",
        "from datetime import date\r\n",
        "import openpyxl as ex\r\n",
        "import re as re\r\n",
        "import requests\r\n",
        "\r\n",
        "LOCALFILENAME= 'temp.xlsx'\r\n",
        "CONTAINERNAME= 'upload-manuell'\r\n",
        "BLOBNAME= 'ga_properties_urls.xlsx'\r\n",
        "STORAGEACCOUNTURL= \"https://azapexceldev.blob.core.windows.net\"\r\n",
        "STORAGEACCOUNTKEY= \"RqKHccDs4IL1/IZiPzMcIg9XRImdItrdKJEU9bG0nbl7Ckf5pcj86y9h7fDtCS76x136sgBdn/+VhFw8z5BdMg==\"\r\n",
        "\r\n",
        "#download from blob\r\n",
        "\r\n",
        "blobClient = BlobServiceClient(account_url=STORAGEACCOUNTURL, credential=STORAGEACCOUNTKEY)\r\n",
        "blobItem = blobClient.get_blob_client(CONTAINERNAME, BLOBNAME, snapshot=None)\r\n",
        "with open(LOCALFILENAME, \"wb\") as my_blob:\r\n",
        "    blob_data = blobItem.download_blob()\r\n",
        "    blob_data.readinto(my_blob)\r\n",
        "\r\n",
        "pd.set_option(\"display.max_rows\", None, \"display.max_columns\", None)"
      ]
    },
    {
      "cell_type": "markdown",
      "metadata": {
        "nteract": {
          "transient": {
            "deleting": false
          }
        }
      },
      "source": [
        "## Laden Verzeichnis der GA-Views und Properties mit den dazugehörigen URLs\r\n",
        ""
      ]
    },
    {
      "cell_type": "code",
      "execution_count": 9,
      "outputs": [],
      "metadata": {
        "jupyter": {
          "source_hidden": false,
          "outputs_hidden": false
        },
        "nteract": {
          "transient": {
            "deleting": false
          }
        },
        "collapsed": true
      },
      "source": [
        "df_properties= pd.read_excel(LOCALFILENAME, engine='openpyxl', sheet_name=None)"
      ]
    },
    {
      "cell_type": "code",
      "execution_count": 10,
      "outputs": [],
      "metadata": {
        "jupyter": {
          "source_hidden": false,
          "outputs_hidden": false
        },
        "nteract": {
          "transient": {
            "deleting": false
          }
        },
        "collapsed": true
      },
      "source": [
        "df_properties = df_properties['Tabelle1']"
      ]
    },
    {
      "cell_type": "code",
      "execution_count": 11,
      "outputs": [],
      "metadata": {
        "jupyter": {
          "source_hidden": false,
          "outputs_hidden": false
        },
        "nteract": {
          "transient": {
            "deleting": false
          }
        }
      },
      "source": [
        "df_properties.info()"
      ]
    },
    {
      "cell_type": "code",
      "execution_count": 12,
      "outputs": [],
      "metadata": {
        "jupyter": {
          "source_hidden": false,
          "outputs_hidden": false
        },
        "nteract": {
          "transient": {
            "deleting": false
          }
        }
      },
      "source": [
        "columns_df_properties = [\"account_name\", \"account_id\", \"property_name\", \"property_id\", \"property_url\", \"view_name\", \"view_id\", \"seitenaufrufe_letzte_360_tage\", 'bemerkung']"
      ]
    },
    {
      "cell_type": "code",
      "execution_count": 13,
      "outputs": [],
      "metadata": {
        "jupyter": {
          "source_hidden": false,
          "outputs_hidden": false
        },
        "nteract": {
          "transient": {
            "deleting": false
          }
        }
      },
      "source": [
        "df_properties.columns = columns_df_properties"
      ]
    },
    {
      "cell_type": "markdown",
      "metadata": {
        "nteract": {
          "transient": {
            "deleting": false
          }
        }
      },
      "source": [
        "## Erstellen Liste der verfügbaren URLs aus GA"
      ]
    },
    {
      "cell_type": "code",
      "execution_count": 26,
      "outputs": [],
      "metadata": {
        "jupyter": {
          "source_hidden": false,
          "outputs_hidden": false
        },
        "nteract": {
          "transient": {
            "deleting": false
          }
        }
      },
      "source": [
        "url_list = list(df_properties['property_url'].unique())"
      ]
    },
    {
      "cell_type": "markdown",
      "metadata": {
        "nteract": {
          "transient": {
            "deleting": false
          }
        }
      },
      "source": [
        "## Erstellen leeres DF für die Daten aus dem GTM-Crawl"
      ]
    },
    {
      "cell_type": "code",
      "execution_count": 16,
      "outputs": [],
      "metadata": {
        "jupyter": {
          "source_hidden": false,
          "outputs_hidden": false
        },
        "nteract": {
          "transient": {
            "deleting": false
          }
        },
        "collapsed": true
      },
      "source": [
        "columns = ['request_url', \"response_url\", 'status', 'gtm', \"ua\", 'error', 'domain_verkauf']"
      ]
    },
    {
      "cell_type": "code",
      "execution_count": 17,
      "outputs": [],
      "metadata": {
        "jupyter": {
          "source_hidden": false,
          "outputs_hidden": false
        },
        "nteract": {
          "transient": {
            "deleting": false
          }
        },
        "collapsed": true
      },
      "source": [
        "df_gtm = pd.DataFrame(columns = columns)"
      ]
    },
    {
      "cell_type": "markdown",
      "metadata": {
        "nteract": {
          "transient": {
            "deleting": false
          }
        }
      },
      "source": [
        "## Erstellen Funktionen für den Crawl"
      ]
    },
    {
      "cell_type": "code",
      "execution_count": 18,
      "outputs": [],
      "metadata": {
        "jupyter": {
          "source_hidden": false,
          "outputs_hidden": false
        },
        "nteract": {
          "transient": {
            "deleting": false
          }
        },
        "collapsed": true
      },
      "source": [
        "def remove_newline(a):\r\n",
        "    return re.sub(r'[\\n]', '', a)"
      ]
    },
    {
      "cell_type": "code",
      "execution_count": 19,
      "outputs": [],
      "metadata": {
        "jupyter": {
          "source_hidden": false,
          "outputs_hidden": false
        },
        "nteract": {
          "transient": {
            "deleting": false
          }
        },
        "collapsed": true
      },
      "source": [
        "def extract_gtm(r):\r\n",
        "    if re.search(r'GTM-[A-Z0-9]{6,7}', r) is not None:\r\n",
        "        return list(set(re.findall(r'GTM-[A-Z0-9]{6,7}', r)))\r\n",
        "    else:\r\n",
        "        return 'NA'"
      ]
    },
    {
      "cell_type": "code",
      "execution_count": 20,
      "outputs": [],
      "metadata": {
        "jupyter": {
          "source_hidden": false,
          "outputs_hidden": false
        },
        "nteract": {
          "transient": {
            "deleting": false
          }
        },
        "collapsed": true
      },
      "source": [
        "def extract_ua(r):\r\n",
        "    if re.search(r'UA-[0-9-]{9,11}', r) is not None:\r\n",
        "        return list(set(re.findall(r'UA-[0-9-]{9,11}', r)))\r\n",
        "    else:\r\n",
        "        return 'NA'"
      ]
    },
    {
      "cell_type": "code",
      "execution_count": 21,
      "outputs": [],
      "metadata": {
        "jupyter": {
          "source_hidden": false,
          "outputs_hidden": false
        },
        "nteract": {
          "transient": {
            "deleting": false
          }
        },
        "collapsed": true
      },
      "source": [
        "def domain_verkauf(r):\r\n",
        "    if re.search(r'(This domain may be for sale|Diese Website steht zum Verkauf)', r) is not None:\r\n",
        "        return \"ja\"\r\n",
        "    else:\r\n",
        "        return 'NA'"
      ]
    },
    {
      "cell_type": "code",
      "execution_count": 22,
      "outputs": [],
      "metadata": {
        "jupyter": {
          "source_hidden": false,
          "outputs_hidden": false
        },
        "nteract": {
          "transient": {
            "deleting": false
          }
        },
        "collapsed": true
      },
      "source": [
        "def fill_row(url,response, response_text):\r\n",
        "    row['request_url'] = url\r\n",
        "    row['response_url'] = response.url\r\n",
        "    row['status'] = response.status_code\r\n",
        "    row['error'] = 'NA'\r\n",
        "    row['gtm'] = extract_gtm(response_text)\r\n",
        "    row['ua'] = extract_ua(response_text)\r\n",
        "    row['domain_verkauf'] = domain_verkauf(response_text)"
      ]
    },
    {
      "cell_type": "code",
      "execution_count": 23,
      "outputs": [],
      "metadata": {
        "jupyter": {
          "source_hidden": false,
          "outputs_hidden": false
        },
        "nteract": {
          "transient": {
            "deleting": false
          }
        },
        "collapsed": true
      },
      "source": [
        "def fill_error(url, e):\r\n",
        "    row['request_url'] = url\r\n",
        "    row['response_url'] = 'NA'\r\n",
        "    row['status'] = 'NA'\r\n",
        "    row['gtm'] = 'NA'\r\n",
        "    row['ua'] = 'NA'\r\n",
        "    row['domain_verkauf'] = 'NA'\r\n",
        "    row['error'] = e"
      ]
    },
    {
      "cell_type": "markdown",
      "metadata": {
        "nteract": {
          "transient": {
            "deleting": false
          }
        }
      },
      "source": [
        "## Crawl ausführen, Ergebnisse ins DF abspeichern"
      ]
    },
    {
      "cell_type": "code",
      "execution_count": 30,
      "outputs": [],
      "metadata": {
        "jupyter": {
          "source_hidden": false,
          "outputs_hidden": true
        },
        "nteract": {
          "transient": {
            "deleting": false
          }
        },
        "collapsed": true
      },
      "source": [
        "for url in url_list:\r\n",
        "    length = len(url_list)\r\n",
        "    row = {}\r\n",
        "    headers = {'User-Agent': 'Safari/605.1.15' }\r\n",
        "    print('processing url:'.format(url))\r\n",
        "    try:\r\n",
        "        response = requests.get(url, headers = headers, timeout = 3)\r\n",
        "        response_text = remove_newline(response.text)\r\n",
        "\r\n",
        "        print('response received')\r\n",
        "        \r\n",
        "        if re.search(r'\\t<meta.+<body></body>', response_text) is not None: \r\n",
        "            try:\r\n",
        "                redir_url = re.search(r'url=(http.*rhd)',response_text).group(1)\r\n",
        "                response_redir = requests.get(redir_url, headers = headers)\r\n",
        "                response_redir_text = remove_newline(response_redir.text)\r\n",
        "                fill_row(url,response_redir, response_redir_text)\r\n",
        "            except Exception as e:\r\n",
        "                fill_error(url,e)\r\n",
        "                \r\n",
        "        else:\r\n",
        "            fill_row(url,response, response_text)\r\n",
        "            \r\n",
        "            \r\n",
        "            \r\n",
        "    except Exception as e:\r\n",
        "        fill_error(url,e)  \r\n",
        "    \r\n",
        "    df_gtm = df_gtm.append(row, ignore_index = True)\r\n",
        "   # print(f'processing item {df_list.index(url)+1} of {length}', end='\\r')"
      ]
    },
    {
      "cell_type": "code",
      "execution_count": 31,
      "outputs": [],
      "metadata": {
        "jupyter": {
          "source_hidden": false,
          "outputs_hidden": false
        },
        "nteract": {
          "transient": {
            "deleting": false
          }
        }
      },
      "source": [
        "df_gtm.info()"
      ]
    },
    {
      "cell_type": "code",
      "execution_count": 35,
      "outputs": [],
      "metadata": {
        "jupyter": {
          "source_hidden": false,
          "outputs_hidden": false
        },
        "nteract": {
          "transient": {
            "deleting": false
          }
        }
      },
      "source": [
        "df_gtm['property_url'] = df_gtm['request_url']"
      ]
    },
    {
      "cell_type": "markdown",
      "metadata": {
        "nteract": {
          "transient": {
            "deleting": false
          }
        }
      },
      "source": [
        "## Mergen der GA-Daten mit den Daten aus dem Crawl"
      ]
    },
    {
      "cell_type": "code",
      "execution_count": 36,
      "outputs": [],
      "metadata": {
        "jupyter": {
          "source_hidden": false,
          "outputs_hidden": false
        },
        "nteract": {
          "transient": {
            "deleting": false
          }
        },
        "collapsed": true
      },
      "source": [
        "df_merged = pd.merge(df_properties, df_gtm, on = 'property_url', how = 'left')"
      ]
    },
    {
      "cell_type": "code",
      "execution_count": 37,
      "outputs": [],
      "metadata": {
        "jupyter": {
          "source_hidden": false,
          "outputs_hidden": false
        },
        "nteract": {
          "transient": {
            "deleting": false
          }
        },
        "collapsed": true
      },
      "source": [
        "df_merged.info()"
      ]
    },
    {
      "cell_type": "markdown",
      "metadata": {
        "nteract": {
          "transient": {
            "deleting": false
          }
        }
      },
      "source": [
        "## Speichern der gemergten Daten ins Blob als CSV"
      ]
    },
    {
      "cell_type": "code",
      "execution_count": 39,
      "outputs": [],
      "metadata": {
        "jupyter": {
          "source_hidden": false,
          "outputs_hidden": false
        },
        "nteract": {
          "transient": {
            "deleting": false
          }
        }
      },
      "source": [
        "output = df_merged.to_csv(index=False, encoding = \"utf-8\")"
      ]
    },
    {
      "cell_type": "code",
      "execution_count": 40,
      "outputs": [],
      "metadata": {
        "jupyter": {
          "source_hidden": false,
          "outputs_hidden": false
        },
        "nteract": {
          "transient": {
            "deleting": false
          }
        }
      },
      "source": [
        "todays_date = date.today()\r\n",
        "file_name = \"verzeichnis_gtm_container\"+\"_\"+str(todays_date)+\".csv\""
      ]
    },
    {
      "cell_type": "code",
      "execution_count": 41,
      "outputs": [],
      "metadata": {
        "jupyter": {
          "source_hidden": false,
          "outputs_hidden": false
        },
        "nteract": {
          "transient": {
            "deleting": false
          }
        }
      },
      "source": [
        "\r\n",
        "blobClient = BlobServiceClient(account_url=STORAGEACCOUNTURL, credential=STORAGEACCOUNTKEY)\r\n",
        "container_client = blobClient.get_container_client('upload-manuell')\r\n",
        "\r\n",
        "blob_client = container_client.get_blob_client(file_name)\r\n",
        "blob_client.upload_blob(output, blob_type=\"BlockBlob\")\r\n",
        ""
      ]
    },
    {
      "cell_type": "code",
      "execution_count": null,
      "outputs": [],
      "metadata": {
        "jupyter": {
          "source_hidden": false,
          "outputs_hidden": false
        },
        "nteract": {
          "transient": {
            "deleting": false
          }
        }
      },
      "source": []
    }
  ]
}